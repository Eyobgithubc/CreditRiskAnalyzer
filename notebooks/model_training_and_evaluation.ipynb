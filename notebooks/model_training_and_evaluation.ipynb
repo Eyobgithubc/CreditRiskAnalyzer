{
 "cells": [
  {
   "cell_type": "code",
   "execution_count": 1,
   "metadata": {},
   "outputs": [],
   "source": [
    "import pandas as pd\n",
    "import sys\n",
    "import os"
   ]
  },
  {
   "cell_type": "code",
   "execution_count": 2,
   "metadata": {},
   "outputs": [],
   "source": [
    "sys.path.append(os.path.abspath('C:/Users/teeyob/CreditRiskAnalyzer/scripts'))"
   ]
  },
  {
   "cell_type": "code",
   "execution_count": 4,
   "metadata": {},
   "outputs": [],
   "source": [
    "from eda_functions import load_data\n",
    "data=load_data('C:/Users/teeyob/CreditRiskAnalyzer/data/processed_data2.csv')\n",
    "\n"
   ]
  },
  {
   "cell_type": "code",
   "execution_count": 14,
   "metadata": {},
   "outputs": [
    {
     "name": "stderr",
     "output_type": "stream",
     "text": [
      "C:\\Users\\teeyob\\CreditRiskAnalyzer\\scripts\\modeling.py:52: FutureWarning: A value is trying to be set on a copy of a DataFrame or Series through chained assignment using an inplace method.\n",
      "The behavior will change in pandas 3.0. This inplace method will never work because the intermediate object on which we are setting values always behaves as a copy.\n",
      "\n",
      "For example, when doing 'df[col].method(value, inplace=True)', try using 'df.method({col: value}, inplace=True)' or df[col] = df[col].method(value) instead, to perform the operation inplace on the original object.\n",
      "\n",
      "\n",
      "  df[column].fillna(df[column].mean(), inplace=True)\n"
     ]
    }
   ],
   "source": [
    "from modeling import clean_data,process_data\n",
    "\n",
    "df_encoded = process_data(data)\n",
    "\n"
   ]
  },
  {
   "cell_type": "markdown",
   "metadata": {},
   "source": []
  },
  {
   "cell_type": "code",
   "execution_count": 11,
   "metadata": {},
   "outputs": [],
   "source": [
    "from modeling import train_random_forest, train_decision_tree,train_decision_tree"
   ]
  },
  {
   "cell_type": "code",
   "execution_count": 13,
   "metadata": {},
   "outputs": [],
   "source": [
    "\n",
    "X = df_encoded.drop('FraudResult', axis=1)  # Features\n",
    "y = df_encoded['FraudResult'] \n",
    "X.drop(columns=['TransactionStartTime'], inplace=True)\n",
    "\n"
   ]
  },
  {
   "cell_type": "markdown",
   "metadata": {},
   "source": [
    "Train and evaluate a Random Forest model with hyperparameter tuning."
   ]
  },
  {
   "cell_type": "code",
   "execution_count": 10,
   "metadata": {},
   "outputs": [
    {
     "name": "stdout",
     "output_type": "stream",
     "text": [
      "Random Forest Evaluation Metrics:\n",
      "{'Accuracy': 0.9994773428108503, 'Precision': np.float64(0.8918918918918919), 'Recall': np.float64(0.8461538461538461), 'F1 Score': np.float64(0.868421052631579), 'ROC-AUC': np.float64(0.9998348252773728)}\n"
     ]
    }
   ],
   "source": [
    "rf_results = train_random_forest(X, y)\n",
    "print(\"Random Forest Evaluation Metrics:\")\n",
    "print(rf_results)\n",
    "\n"
   ]
  },
  {
   "cell_type": "markdown",
   "metadata": {},
   "source": [
    " Train and evaluate a Decision Tree model with hyperparameter tuning."
   ]
  },
  {
   "cell_type": "code",
   "execution_count": 12,
   "metadata": {},
   "outputs": [
    {
     "name": "stderr",
     "output_type": "stream",
     "text": [
      "c:\\Users\\teeyob\\CreditRiskAnalyzer\\.venv\\Lib\\site-packages\\numpy\\ma\\core.py:2881: RuntimeWarning: invalid value encountered in cast\n",
      "  _data = np.array(data, dtype=dtype, copy=copy,\n"
     ]
    },
    {
     "name": "stdout",
     "output_type": "stream",
     "text": [
      "Decision tree  Evaluation Metrics:\n",
      "{'Accuracy': 0.9994773428108503, 'Precision': np.float64(0.8717948717948718), 'Recall': np.float64(0.8717948717948718), 'F1 Score': np.float64(0.8717948717948718), 'ROC-AUC': np.float64(0.9742199858728611)}\n"
     ]
    }
   ],
   "source": [
    "\n",
    "rf_results1 = train_decision_tree(X, y)\n",
    "print(\"Decision tree  Evaluation Metrics:\")\n",
    "print(rf_results1)"
   ]
  }
 ],
 "metadata": {
  "kernelspec": {
   "display_name": ".venv",
   "language": "python",
   "name": "python3"
  },
  "language_info": {
   "codemirror_mode": {
    "name": "ipython",
    "version": 3
   },
   "file_extension": ".py",
   "mimetype": "text/x-python",
   "name": "python",
   "nbconvert_exporter": "python",
   "pygments_lexer": "ipython3",
   "version": "3.12.5"
  }
 },
 "nbformat": 4,
 "nbformat_minor": 2
}
